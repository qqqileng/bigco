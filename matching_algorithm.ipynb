{
 "cells": [
  {
   "cell_type": "code",
   "execution_count": 5,
   "metadata": {},
   "outputs": [],
   "source": [
    "import ibm_db\n",
    "from pandas import DataFrame\n",
    "import pandas as pd"
   ]
  },
  {
   "cell_type": "code",
   "execution_count": 6,
   "metadata": {},
   "outputs": [],
   "source": [
    "import ibm_db_dbi as db"
   ]
  },
  {
   "cell_type": "code",
   "execution_count": 7,
   "metadata": {},
   "outputs": [],
   "source": [
    "conn = db.connect(\"DATABASE=BLUDB;HOSTNAME=dashdb-txn-sbox-yp-dal09-04.services.dal.bluemix.net;PORT=50000;PROTOCOL=TCPIP;UID=sfz85754;PWD=j0-9fgh89tfj30b8;\", \"\", \"\")"
   ]
  },
  {
   "cell_type": "code",
   "execution_count": 36,
   "metadata": {},
   "outputs": [],
   "source": [
    "df = pd.read_sql(\"SELECT * from ADVISOR_DATA\", conn)"
   ]
  },
  {
   "cell_type": "code",
   "execution_count": 37,
   "metadata": {},
   "outputs": [],
   "source": [
    "# preprocess the database\n",
    "database = df.set_index('name').T.to_dict('dict')"
   ]
  },
  {
   "cell_type": "code",
   "execution_count": 38,
   "metadata": {},
   "outputs": [],
   "source": [
    "for key, value in database.items():\n",
    "    value['language'] = [x.rstrip() for x in value['language'].split(',')]\n",
    "    value['service'] = [x.rstrip() for x in value['service'].split(',')]"
   ]
  },
  {
   "cell_type": "code",
   "execution_count": 39,
   "metadata": {},
   "outputs": [],
   "source": [
    "# mock query \n",
    "query = {'Smith White': {'language': ['Japanese', 'Hindi', 'Turkish'],\n",
    "  'service': ['Consumer checking and savings', 'General investing', 'Home Equity'],\n",
    "  'location': 'FL'},\n",
    "        'Jordan Black': {'language': ['English', 'German', 'Italian'],\n",
    "  'service': ['Business checking and savings', 'Merchant', 'Refinancing'],\n",
    "  'location': 'SC'}}"
   ]
  },
  {
   "cell_type": "code",
   "execution_count": 40,
   "metadata": {},
   "outputs": [],
   "source": [
    "# preprocess the query\n",
    "query_map = {'Consumer checking and savings':'Consumer','Auto loans':'Consumer',\\\n",
    "       'Credit cards':'Consumer','Rewards':'Consumer',\\\n",
    "       'Retirement planning':'Investment','IRAs and 401(k)s':'Investment',\\\n",
    "       'General investing':'Investment','College planning':'Investment',\\\n",
    "       'Mortgage financing':'Home Loan','Refinancing':'Home Loan',\\\n",
    "       'Home Equity':'Home Loan',\\\n",
    "       'Business checking and savings':'Business','Lending':'Business',\\\n",
    "       'Payroll':'Business','Merchant':'Business','Financing':'Business'}       \n",
    "# map the services into categories\n",
    "for name,value in query.items():\n",
    "    #print(value)\n",
    "    result = value.pop(\"service\") \n",
    "    res = []\n",
    "    for ser in result:\n",
    "        res.append(query_map[ser])\n",
    "    value['service'] = res"
   ]
  },
  {
   "cell_type": "code",
   "execution_count": 41,
   "metadata": {},
   "outputs": [
    {
     "data": {
      "text/plain": [
       "{'Smith White': {'language': ['Japanese', 'Hindi', 'Turkish'],\n",
       "  'location': 'FL',\n",
       "  'service': ['Consumer', 'Investment', 'Home Loan']},\n",
       " 'Jordan Black': {'language': ['English', 'German', 'Italian'],\n",
       "  'location': 'SC',\n",
       "  'service': ['Business', 'Business', 'Home Loan']}}"
      ]
     },
     "execution_count": 41,
     "metadata": {},
     "output_type": "execute_result"
    }
   ],
   "source": [
    "query"
   ]
  },
  {
   "cell_type": "code",
   "execution_count": 42,
   "metadata": {},
   "outputs": [],
   "source": [
    "import numpy as np\n",
    "import pandas as pd\n",
    "import sys\n",
    "import math\n",
    "from collections import Counter\n",
    "\n",
    "from pandas.io import sql\n",
    "\n",
    "'''\n",
    "input: user preference as txt file with features in order: \n",
    "language, \n",
    "service type, \n",
    "location\n",
    "database: bank assistants as dict of dict of lists/int/string\n",
    "\n",
    "'''\n",
    "\n",
    "\n",
    "\n",
    "def sort_ranked_list(prefered_list):\n",
    "    return(sorted(prefered_list, key = lambda x: x[1], reverse = True)[:3])\n",
    "\n",
    "def select_bank_assistant(name):\n",
    "    database[name]['availability'] = 0\n",
    "    return\n",
    "\n",
    "def finished_assistant(name):\n",
    "    database[name]['availability'] = 1\n",
    "\n",
    "def matching_algorithm(query,threshold):\n",
    "    # set up a threshold for banking assistants to get into the list\n",
    "    matched = []\n",
    "    for name in database:\n",
    "        if not database[name]['availability']:\n",
    "            continue\n",
    "        else:\n",
    "            counterA = set(query['language'])\n",
    "            counterB = set(database[name]['language'])\n",
    "            cos_sim_lang = len(counterA.intersection(counterB))/len(counterA)\n",
    "            counterA = set(query['service'])\n",
    "            counterB = set(database[name]['service'])\n",
    "            cos_sim_ser =len(counterA.intersection(counterB))/len(counterA)\n",
    "            counterA = set(query['location'])\n",
    "            counterB = set(database[name]['location'])\n",
    "            cos_sim_loc =len(counterA.intersection(counterB))/len(counterA)\n",
    "            score = 0.5 * cos_sim_lang + 0.4 * cos_sim_ser + 0.1 * cos_sim_loc\n",
    "            if score > threshold:\n",
    "                bank_assistant = name\n",
    "                matched.append((bank_assistant,score))\n",
    "    return matched\n",
    "    "
   ]
  },
  {
   "cell_type": "code",
   "execution_count": 43,
   "metadata": {},
   "outputs": [],
   "source": [
    "threshold = 0.5\n",
    "query_result = dict()\n",
    "for key,value in query.items(): \n",
    "    matched = matching_algorithm(value,threshold)\n",
    "    ranked = sort_ranked_list(matched)\n",
    "    teller_info = {key:[(x[0],database[x[0]]) for x in ranked]}\n",
    "    query_result.update(teller_info)\n",
    "    #print(ranked)"
   ]
  },
  {
   "cell_type": "code",
   "execution_count": 44,
   "metadata": {},
   "outputs": [
    {
     "data": {
      "text/plain": [
       "[('Lashandra Ritter',\n",
       "  {'language': ['English', 'Spanish', 'Hindi'],\n",
       "   'service': ['Investment', 'Home Loan', 'Consumer'],\n",
       "   'location': 'FL',\n",
       "   'availability': 1}),\n",
       " ('Brandis Givens',\n",
       "  {'language': ['English', 'Hindi', 'Spanish'],\n",
       "   'service': ['Home Loan', 'Consumer', 'Investment'],\n",
       "   'location': 'VA',\n",
       "   'availability': 1}),\n",
       " ('Shekinah Wyatt',\n",
       "  {'language': ['English', 'Portugese', 'Japanese'],\n",
       "   'service': ['Consumer', 'Investment', 'Home Loan'],\n",
       "   'location': 'AZ',\n",
       "   'availability': 1})]"
      ]
     },
     "execution_count": 44,
     "metadata": {},
     "output_type": "execute_result"
    }
   ],
   "source": [
    "query_result['Smith White']"
   ]
  },
  {
   "cell_type": "code",
   "execution_count": null,
   "metadata": {},
   "outputs": [],
   "source": []
  }
 ],
 "metadata": {
  "kernelspec": {
   "display_name": "Python 3",
   "language": "python",
   "name": "python3"
  },
  "language_info": {
   "codemirror_mode": {
    "name": "ipython",
    "version": 3
   },
   "file_extension": ".py",
   "mimetype": "text/x-python",
   "name": "python",
   "nbconvert_exporter": "python",
   "pygments_lexer": "ipython3",
   "version": "3.7.6"
  }
 },
 "nbformat": 4,
 "nbformat_minor": 4
}
