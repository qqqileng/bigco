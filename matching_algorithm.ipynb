{
 "cells": [
  {
   "cell_type": "code",
   "execution_count": 41,
   "metadata": {},
   "outputs": [],
   "source": [
    "import ibm_db\n",
    "from pandas import DataFrame"
   ]
  },
  {
   "cell_type": "code",
   "execution_count": 18,
   "metadata": {},
   "outputs": [],
   "source": [
    "import ibm_db_dbi as db"
   ]
  },
  {
   "cell_type": "code",
   "execution_count": 19,
   "metadata": {},
   "outputs": [],
   "source": [
    "conn = db.connect(\"DATABASE=BLUDB;HOSTNAME=dashdb-txn-sbox-yp-dal09-04.services.dal.bluemix.net;PORT=50000;PROTOCOL=TCPIP;UID=sfz85754;PWD=j0-9fgh89tfj30b8;\", \"\", \"\")"
   ]
  },
  {
   "cell_type": "code",
   "execution_count": 44,
   "metadata": {},
   "outputs": [],
   "source": [
    "df = pd.read_sql(\"SELECT * from TELLER\", conn)"
   ]
  },
  {
   "cell_type": "code",
   "execution_count": 59,
   "metadata": {},
   "outputs": [
    {
     "data": {
      "text/html": [
       "<div>\n",
       "<style scoped>\n",
       "    .dataframe tbody tr th:only-of-type {\n",
       "        vertical-align: middle;\n",
       "    }\n",
       "\n",
       "    .dataframe tbody tr th {\n",
       "        vertical-align: top;\n",
       "    }\n",
       "\n",
       "    .dataframe thead th {\n",
       "        text-align: right;\n",
       "    }\n",
       "</style>\n",
       "<table border=\"1\" class=\"dataframe\">\n",
       "  <thead>\n",
       "    <tr style=\"text-align: right;\">\n",
       "      <th></th>\n",
       "      <th>name</th>\n",
       "      <th>language</th>\n",
       "      <th>service</th>\n",
       "      <th>location</th>\n",
       "      <th>availability</th>\n",
       "    </tr>\n",
       "  </thead>\n",
       "  <tbody>\n",
       "    <tr>\n",
       "      <th>0</th>\n",
       "      <td>Danna Jack</td>\n",
       "      <td>Chinese,Spanish,Turkish</td>\n",
       "      <td>Mortgage,Savings,Deposit</td>\n",
       "      <td>US</td>\n",
       "      <td>1</td>\n",
       "    </tr>\n",
       "    <tr>\n",
       "      <th>1</th>\n",
       "      <td>Amit Miller</td>\n",
       "      <td>Japanese,Italian,Ukrainian</td>\n",
       "      <td>Mortgage,Savings,Pay</td>\n",
       "      <td>US</td>\n",
       "      <td>0</td>\n",
       "    </tr>\n",
       "    <tr>\n",
       "      <th>2</th>\n",
       "      <td>Arthur Loya</td>\n",
       "      <td>English,Italian,Portuguese</td>\n",
       "      <td>Mortgage,Transfer,Deposit</td>\n",
       "      <td>US</td>\n",
       "      <td>0</td>\n",
       "    </tr>\n",
       "    <tr>\n",
       "      <th>3</th>\n",
       "      <td>Michal Hare</td>\n",
       "      <td>Chinese,Italian,Swedish</td>\n",
       "      <td>Card,Savings,Deposit</td>\n",
       "      <td>US</td>\n",
       "      <td>0</td>\n",
       "    </tr>\n",
       "    <tr>\n",
       "      <th>4</th>\n",
       "      <td>Vickie Grimes</td>\n",
       "      <td>Chinese,Hebrew,Swedish</td>\n",
       "      <td>Mortgage,Invest,Deposit</td>\n",
       "      <td>US</td>\n",
       "      <td>1</td>\n",
       "    </tr>\n",
       "    <tr>\n",
       "      <th>...</th>\n",
       "      <td>...</td>\n",
       "      <td>...</td>\n",
       "      <td>...</td>\n",
       "      <td>...</td>\n",
       "      <td>...</td>\n",
       "    </tr>\n",
       "    <tr>\n",
       "      <th>995</th>\n",
       "      <td>Nicklaus Ferrari</td>\n",
       "      <td>Japanese,German,Polish</td>\n",
       "      <td>Card,Transfer,Account</td>\n",
       "      <td>US</td>\n",
       "      <td>0</td>\n",
       "    </tr>\n",
       "    <tr>\n",
       "      <th>996</th>\n",
       "      <td>Renata Dewitt</td>\n",
       "      <td>Korean,Spanish,Turkish</td>\n",
       "      <td>Mortgage,Transfer,Deposit</td>\n",
       "      <td>US</td>\n",
       "      <td>0</td>\n",
       "    </tr>\n",
       "    <tr>\n",
       "      <th>997</th>\n",
       "      <td>Hubert Duarte</td>\n",
       "      <td>Korean,German,Persian</td>\n",
       "      <td>Loan,Invest,Account</td>\n",
       "      <td>US</td>\n",
       "      <td>0</td>\n",
       "    </tr>\n",
       "    <tr>\n",
       "      <th>998</th>\n",
       "      <td>Iris Romero</td>\n",
       "      <td>Russian,Italian,Swedish</td>\n",
       "      <td>Loan,Invest,Account</td>\n",
       "      <td>US</td>\n",
       "      <td>0</td>\n",
       "    </tr>\n",
       "    <tr>\n",
       "      <th>999</th>\n",
       "      <td>Anitra Curley</td>\n",
       "      <td>English,German,Polish</td>\n",
       "      <td>Loan,Transfer,Deposit</td>\n",
       "      <td>US</td>\n",
       "      <td>0</td>\n",
       "    </tr>\n",
       "  </tbody>\n",
       "</table>\n",
       "<p>1000 rows × 5 columns</p>\n",
       "</div>"
      ],
      "text/plain": [
       "                 name                    language                    service  \\\n",
       "0          Danna Jack     Chinese,Spanish,Turkish   Mortgage,Savings,Deposit   \n",
       "1         Amit Miller  Japanese,Italian,Ukrainian       Mortgage,Savings,Pay   \n",
       "2         Arthur Loya  English,Italian,Portuguese  Mortgage,Transfer,Deposit   \n",
       "3         Michal Hare     Chinese,Italian,Swedish       Card,Savings,Deposit   \n",
       "4       Vickie Grimes      Chinese,Hebrew,Swedish    Mortgage,Invest,Deposit   \n",
       "..                ...                         ...                        ...   \n",
       "995  Nicklaus Ferrari      Japanese,German,Polish      Card,Transfer,Account   \n",
       "996     Renata Dewitt      Korean,Spanish,Turkish  Mortgage,Transfer,Deposit   \n",
       "997     Hubert Duarte       Korean,German,Persian        Loan,Invest,Account   \n",
       "998       Iris Romero     Russian,Italian,Swedish        Loan,Invest,Account   \n",
       "999     Anitra Curley       English,German,Polish      Loan,Transfer,Deposit   \n",
       "\n",
       "    location  availability  \n",
       "0         US             1  \n",
       "1         US             0  \n",
       "2         US             0  \n",
       "3         US             0  \n",
       "4         US             1  \n",
       "..       ...           ...  \n",
       "995       US             0  \n",
       "996       US             0  \n",
       "997       US             0  \n",
       "998       US             0  \n",
       "999       US             0  \n",
       "\n",
       "[1000 rows x 5 columns]"
      ]
     },
     "execution_count": 59,
     "metadata": {},
     "output_type": "execute_result"
    }
   ],
   "source": [
    "df"
   ]
  },
  {
   "cell_type": "code",
   "execution_count": 67,
   "metadata": {},
   "outputs": [],
   "source": [
    "# preprocess the database\n",
    "database = df.set_index('name').T.to_dict('dict')"
   ]
  },
  {
   "cell_type": "code",
   "execution_count": 68,
   "metadata": {},
   "outputs": [],
   "source": [
    "for key, value in database.items():\n",
    "    value['language'] = [x.rstrip() for x in value['language'].split(',')]\n",
    "    value['service'] = [x.rstrip() for x in value['service'].split(',')]"
   ]
  },
  {
   "cell_type": "code",
   "execution_count": 100,
   "metadata": {},
   "outputs": [],
   "source": [
    "# mock query (preprocessed)\n",
    "query = {'Smith White': {'language': ['Japanese', 'Hindi', 'Turkish'],\n",
    "  'service': ['Pay', 'Savings', 'Card'],\n",
    "  'location': 'US'},\n",
    "        'Jordan Black': {'language': ['English', 'German', 'Italian'],\n",
    "  'service': ['Deposit', 'Check', 'Card'],\n",
    "  'location': 'US'}}"
   ]
  },
  {
   "cell_type": "code",
   "execution_count": 90,
   "metadata": {},
   "outputs": [],
   "source": [
    "import numpy as np\n",
    "import pandas as pd\n",
    "import sys\n",
    "import math\n",
    "from collections import Counter\n",
    "\n",
    "from pandas.io import sql\n",
    "\n",
    "'''\n",
    "input: user preference as txt file with features in order: \n",
    "language, \n",
    "service type, \n",
    "location\n",
    "database: bank assistants as dict of dict of lists/int/string\n",
    "\n",
    "'''\n",
    "\n",
    "\n",
    "\n",
    "def sort_ranked_list(prefered_list):\n",
    "    return(sorted(prefered_list, key = lambda x: x[1], reverse = True)[:3])\n",
    "\n",
    "def select_bank_assistant(name):\n",
    "    database[name]['availability'] = 0\n",
    "    return\n",
    "\n",
    "def finished_assistant(name):\n",
    "    database[name]['availability'] = 1\n",
    "\n",
    "def matching_algorithm(query,threshold):\n",
    "    # set up a threshold for banking assistants to get into the list\n",
    "    matched = []\n",
    "    for name in database:\n",
    "        if not database[name]['availability']:\n",
    "            continue\n",
    "        else:\n",
    "            counterA = set(query['language'])\n",
    "            counterB = set(database[name]['language'])\n",
    "            cos_sim_lang = len(counterA.intersection(counterB))/len(counterA)\n",
    "            counterA = set(query['service'])\n",
    "            counterB = set(database[name]['service'])\n",
    "            cos_sim_ser =len(counterA.intersection(counterB))/len(counterA)\n",
    "            counterA = set(query['location'])\n",
    "            counterB = set(database[name]['location'])\n",
    "            cos_sim_loc =len(counterA.intersection(counterB))/len(counterA)\n",
    "            score = 0.5 * cos_sim_lang + 0.4 * cos_sim_ser + 0.1 * cos_sim_loc\n",
    "            if score > threshold:\n",
    "                bank_assistant = name\n",
    "                matched.append((bank_assistant,score))\n",
    "    return matched\n",
    "    "
   ]
  },
  {
   "cell_type": "code",
   "execution_count": 111,
   "metadata": {},
   "outputs": [],
   "source": [
    "threshold = 0.5\n",
    "query_result = dict()\n",
    "for key,value in query.items(): \n",
    "    matched = matching_algorithm(value,threshold)\n",
    "    ranked = sort_ranked_list(matched)\n",
    "    teller_info = {key:[(x[0],database[x[0]]) for x in ranked]}\n",
    "    query_result.update(teller_info)\n",
    "    #print(ranked)"
   ]
  },
  {
   "cell_type": "code",
   "execution_count": 113,
   "metadata": {},
   "outputs": [
    {
     "data": {
      "text/plain": [
       "[('Charley Hong',\n",
       "  {'language': ['Japanese', 'Spanish', 'Turkish'],\n",
       "   'service': ['Loan', 'Savings', 'Pay'],\n",
       "   'location': 'US',\n",
       "   'availability': 1}),\n",
       " ('Shamara Bradbury',\n",
       "  {'language': ['Japanese', 'German', 'Turkish'],\n",
       "   'service': ['Card', 'Transfer', 'Pay'],\n",
       "   'location': 'US',\n",
       "   'availability': 1}),\n",
       " ('Dominque Keck',\n",
       "  {'language': ['Korean', 'Italian', 'Turkish'],\n",
       "   'service': ['Card', 'Savings', 'Pay'],\n",
       "   'location': 'US',\n",
       "   'availability': 1})]"
      ]
     },
     "execution_count": 113,
     "metadata": {},
     "output_type": "execute_result"
    }
   ],
   "source": [
    "query_result['Smith White']"
   ]
  },
  {
   "cell_type": "code",
   "execution_count": null,
   "metadata": {},
   "outputs": [],
   "source": []
  }
 ],
 "metadata": {
  "kernelspec": {
   "display_name": "Python 3",
   "language": "python",
   "name": "python3"
  },
  "language_info": {
   "codemirror_mode": {
    "name": "ipython",
    "version": 3
   },
   "file_extension": ".py",
   "mimetype": "text/x-python",
   "name": "python",
   "nbconvert_exporter": "python",
   "pygments_lexer": "ipython3",
   "version": "3.7.6"
  }
 },
 "nbformat": 4,
 "nbformat_minor": 4
}
