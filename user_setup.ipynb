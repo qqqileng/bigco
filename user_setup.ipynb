{
 "cells": [
  {
   "cell_type": "code",
   "execution_count": 1,
   "metadata": {},
   "outputs": [],
   "source": [
    "import pandas as pd\n",
    "import numpy as np\n",
    "from datetime import datetime\n",
    "import datetime as dt\n",
    "import pytz\n",
    "import us"
   ]
  },
  {
   "cell_type": "code",
   "execution_count": 2,
   "metadata": {},
   "outputs": [],
   "source": [
    "# import .csv files to standardize data fields for mock advisor data\n",
    "df_st = pd.read_csv('data/bank_branch_master_list.csv')     # state abbreviations where BoA branches are located\n",
    "df_lg = pd.read_excel('data/languages.xlsx','Probability')  # most common languages spoken in the US\n",
    "df_sv = pd.read_excel('data/services.xlsx','categories')    # financial services available: four categories + sub-categories\n",
    "df_nm = pd.read_excel('data/names.xlsx','names')            # first and last names of advisors"
   ]
  },
  {
   "cell_type": "markdown",
   "metadata": {},
   "source": [
    "# Standardize Data Fields\n",
    "\n",
    "- [Locations](#Locations)\n",
    "- [Languages](#Languages)\n",
    "- [Services](#Services)\n",
    "- [Names](#Names)"
   ]
  },
  {
   "cell_type": "markdown",
   "metadata": {},
   "source": [
    "## Locations (States) <a id='Locations'></a>\n",
    "\n",
    "- `loc_list`: list of state abbreviations where BoA branches are located\n",
    "- `loc_prob_dict`: keys - state abbreviations, values - proportion of branches in each state\n",
    "- `loc_abbr_dict`: keys - state abbreviations, values - state names"
   ]
  },
  {
   "cell_type": "code",
   "execution_count": 3,
   "metadata": {},
   "outputs": [],
   "source": [
    "# df.head()"
   ]
  },
  {
   "cell_type": "code",
   "execution_count": 4,
   "metadata": {},
   "outputs": [],
   "source": [
    "# # find bank name\n",
    "# names = np.sort(df_st.NAME.unique())\n",
    "# for name in names:\n",
    "#     print(name)\n",
    "# # Bank Of America, National Association"
   ]
  },
  {
   "cell_type": "code",
   "execution_count": 5,
   "metadata": {},
   "outputs": [],
   "source": [
    "# # find column index\n",
    "# for i, col in enumerate(df_st.columns):\n",
    "#     print(i, col)\n",
    "# # 20 - NAME\n",
    "# # 24 - SERVTYPE\n",
    "# # 25 - STALP\n",
    "# # 27 - STNAME"
   ]
  },
  {
   "cell_type": "code",
   "execution_count": 6,
   "metadata": {},
   "outputs": [],
   "source": [
    "# select BoA branches with specific service types\n",
    "df_st_sub = df_st.loc[(df_st['NAME']=='Bank Of America, National Association') \n",
    "                & (df_st['SERVTYPE'].isin([11,12,15,16])) \n",
    "                & (df_st['STNAME']!=' ')].iloc[:,np.r_[20,24,25,27]].copy()\n",
    "df_st_sub.reset_index(drop=True, inplace=True)\n",
    "# SERVTYPE\n",
    "#     11 Full Service Brick and Mortar Office\n",
    "#     12 Full Service Retail Office\n",
    "#     15 Full Service Home/Phone Banking\n",
    "#     16 Full Service Seasonal Office\n",
    "# df_st_sub.head()"
   ]
  },
  {
   "cell_type": "code",
   "execution_count": 7,
   "metadata": {},
   "outputs": [],
   "source": [
    "# create location objects\n",
    "states = df_st_sub.STALP.unique()\n",
    "total = len(df_st_sub)\n",
    "\n",
    "loc_list = list(states) # state list\n",
    "loc_prob_dict = {} # state:proportion\n",
    "loc_abbr_dict = {} # state:statename\n",
    "\n",
    "for state in states:\n",
    "    count = len(df_st_sub.loc[df_st_sub['STALP']==state])\n",
    "    loc_prob_dict[state] = count/total\n",
    "    loc_abbr_dict[state] = df_st_sub.loc[df_st_sub['STALP']==state].iloc[0,3]\n",
    "\n",
    "# loc_prob_dict\n",
    "# loc_abbr_dict\n",
    "# loc_list"
   ]
  },
  {
   "cell_type": "markdown",
   "metadata": {},
   "source": [
    "## Languages <a id='Languages'></a>\n",
    "- `lg_list`: list of most commonly spoken languages in the US\n",
    "- `lg_prob_dict`: keys - languages, values - proportion of each language spoken"
   ]
  },
  {
   "cell_type": "code",
   "execution_count": 8,
   "metadata": {},
   "outputs": [],
   "source": [
    "# df_lg.head()"
   ]
  },
  {
   "cell_type": "code",
   "execution_count": 9,
   "metadata": {},
   "outputs": [],
   "source": [
    "# create language objects\n",
    "lg_list = list(df_lg.iloc[1:,0])\n",
    "\n",
    "lg_prob_dict = {} # language:proportion\n",
    "for language in lg_list:\n",
    "    lg_prob_dict[language] = df_lg.loc[df_lg['Language']==language].iloc[0,2]\n",
    "\n",
    "# lg_list\n",
    "# lg_prob_dict"
   ]
  },
  {
   "cell_type": "markdown",
   "metadata": {},
   "source": [
    "## Services <a id='Services'></a>\n",
    "- Each advisor specifies three services at __category__ level whereas customers specify desired service at _service_ level.\n",
    "- Sample match: If a customer needs to consult an advisor for 'Consumer-Rewards', then the advisor should offer 'Consumer'.\n",
    "- `sv_adv_list`\n",
    "    * List of four service __categories__ offered by a financial advisor\n",
    "    * \\['Consumer', 'Investment', 'Home Loan', 'Business'\\]\n",
    "- `sv_con_list`\n",
    "    * List of individual services sought by customers\n",
    "    * \\['Consumer-Checking and savings', 'Consumer-Auto loans', 'Consumer-Credit cards', 'Consumer-Rewards', 'Investment-Retirement planning', 'Investment-IRAs and 401(k)s', 'Investment-General investing', 'Investment-College planning', 'Home Loan-Mortgage financing', 'Home Loan-Refinancing', 'Home Loan-Home Equity', 'Business-Checking and savings', 'Business-Lending', 'Business-Payroll', 'Business-Merchant', 'Business-Financing'\\]"
   ]
  },
  {
   "cell_type": "code",
   "execution_count": 10,
   "metadata": {},
   "outputs": [],
   "source": [
    "# df_sv.head()"
   ]
  },
  {
   "cell_type": "code",
   "execution_count": 11,
   "metadata": {},
   "outputs": [],
   "source": [
    "# create service objects\n",
    "sv_adv_list = list(df_sv.columns) # list of services provided by advisors, category level\n",
    "sv_con_list = [] # list of services available for consumers, service level\n",
    "\n",
    "for i in range(len(sv_adv_list)):\n",
    "    col_arr = df_sv.iloc[:,i].dropna()\n",
    "    for j in range(len(col_arr)):\n",
    "        sv_con_list.append(sv_adv_list[i]+'-'+col_arr[j])\n",
    "\n",
    "# sv_adv_list\n",
    "# sv_con_list"
   ]
  },
  {
   "cell_type": "markdown",
   "metadata": {},
   "source": [
    "## Names <a id='Names'></a>\n",
    "- `first_nm_list`: list of first names\n",
    "- `last_nm_list`: list of last names"
   ]
  },
  {
   "cell_type": "code",
   "execution_count": 12,
   "metadata": {
    "scrolled": true
   },
   "outputs": [],
   "source": [
    "# df_nm.head()"
   ]
  },
  {
   "cell_type": "code",
   "execution_count": 13,
   "metadata": {},
   "outputs": [],
   "source": [
    "# create name objects\n",
    "first_nm_list = list(df_nm.iloc[:,0])\n",
    "last_nm_list = list(df_nm.iloc[:,1])\n",
    "\n",
    "# first_nm_list\n",
    "# last_nm_list"
   ]
  },
  {
   "cell_type": "markdown",
   "metadata": {},
   "source": [
    "# Mock Data Generation\n",
    "## Financial Advisors\n",
    "\n",
    "Output Types\n",
    "1. dictionary: `adv_record`\n",
    "    - keys: financial advisor's name\n",
    "    - values: {data field name: data}\n",
    "        - `'language': ['English','language2','language3']`\n",
    "        - `'service': ['service_category1','service_category2','service_category3']`\n",
    "        - `'location': state_abbreviation`\n",
    "        - `'availability': 0 or 1`\n",
    "\n",
    "\n",
    "2. .csv file: `data/advisor_data.csv`\n",
    "    - data field name followed randomly selected data\n",
    "    - one row per advisor"
   ]
  },
  {
   "cell_type": "code",
   "execution_count": 14,
   "metadata": {},
   "outputs": [],
   "source": [
    "# function for randomly selecting data for each data field\n",
    "def random_select(array_input, sample_size):    \n",
    "    optn_list = [] # list of possible data options for each data field\n",
    "    prob_list = [] # list of probabilities (for data options)\n",
    "    \n",
    "    for i in array_input:\n",
    "        optn_list.append(i)\n",
    "        \n",
    "        if type(array_input) == dict:   \n",
    "            prob_list.append(array_input[i])\n",
    "\n",
    "        else:\n",
    "            prob_list.append(1/len(array_input))\n",
    "        \n",
    "    return np.random.choice(a = optn_list, size = sample_size, replace = False, p = prob_list)"
   ]
  },
  {
   "cell_type": "code",
   "execution_count": 48,
   "metadata": {},
   "outputs": [],
   "source": [
    "# function for checking availability based on current time in state\n",
    "def check_availability(state):    \n",
    "    p0 = 0 # probability for being unavailable\n",
    "    p1 = 0 # probability for being available\n",
    "    \n",
    "    if state == 'DC':\n",
    "        state = 'MD' # abbreviation 'DC' unavailable in us package but same time zone as 'MD'\n",
    "    sample_timezone = us.states.lookup(state).time_zones # list with one or more elements\n",
    "    \n",
    "    for time_zone in sample_timezone: # for each time zone in the advisor's state\n",
    "        current_time = datetime.now(pytz.timezone(time_zone)).time() # current time in select time zone\n",
    "        \n",
    "        if current_time > dt.time(17,0,0): # after 5pm\n",
    "            p = [1,0] # always unavailable\n",
    "            i = 1\n",
    "        elif current_time > dt.time(13,0,0): # after 1pm\n",
    "            p = [.3,.7] # unavailable 30% of the time\n",
    "            i = 2\n",
    "        elif current_time > dt.time(12,0,0): # after 12pm\n",
    "            p = [.7,.3] # unavailable 70% of the time\n",
    "            i = 3\n",
    "        elif current_time > dt.time(8,0,0): # after 8am\n",
    "            p = [.3,.7] # unavailable 30% of the time\n",
    "            i = 4\n",
    "        else: # before 8am\n",
    "            p = [1,0] # always unavailable\n",
    "            i = 5\n",
    "        p0 += p[0]\n",
    "        p1 += p[1]\n",
    "    \n",
    "    # output dictionary: keys - options for availability, values - probability of availability\n",
    "    return {0:p0/len(sample_timezone)\n",
    "            ,1:p1/len(sample_timezone)}"
   ]
  },
  {
   "cell_type": "code",
   "execution_count": 49,
   "metadata": {},
   "outputs": [],
   "source": [
    "number_of_advisors = 1000 # set desired total number of financial advisors\n",
    "adv_record = {} # dictionary: keys - name, values - {languages, services, location}"
   ]
  },
  {
   "cell_type": "code",
   "execution_count": 50,
   "metadata": {
    "scrolled": false
   },
   "outputs": [
    {
     "name": "stdout",
     "output_type": "stream",
     "text": [
      "877 DC\n",
      "627 DC\n",
      "489 DC\n",
      "446 DC\n",
      "118 DC\n"
     ]
    }
   ],
   "source": [
    "# open .csv file where rows of advisor data will be written\n",
    "csv_file = open('data/advisor_data.csv', 'wt')\n",
    "\n",
    "# perform random selection until the desired number of advisor records is obtained\n",
    "while number_of_advisors > 0:\n",
    "    # index and compile inputs for random_select function\n",
    "    input_dict = {'first_name':(first_nm_list,1) # category:object,samplesize\n",
    "                  ,'last_name':(last_nm_list,1)\n",
    "                  ,'language':(lg_prob_dict,2)   # total 3 languages: default English + randomly select 2\n",
    "                  ,'service':(sv_adv_list,3)\n",
    "                  ,'location':(loc_prob_dict,1)}\n",
    "\n",
    "    adv_string = ''       # name, English, language2, language3, service1, service2, service3, location\n",
    "\n",
    "    # perform random selection for each data field\n",
    "    for category in input_dict:\n",
    "        for selection in random_select(input_dict[category][0],input_dict[category][1]):        \n",
    "            if category == 'last_name':\n",
    "                # combine first and last name\n",
    "                # add English as default\n",
    "                adv_string = adv_string.replace(',',' '+selection+',English,')\n",
    "            else:\n",
    "                if category == 'location':\n",
    "                    state = selection\n",
    "                adv_string += selection+','\n",
    "\n",
    "    # check and record availability\n",
    "    adv_string += random_select(check_availability(state),1)[0].astype('str')\n",
    "\n",
    "    adv_string = adv_string[0:].split(',') # convert object from string to list\n",
    "#     print(number_of_advisors, adv_string)\n",
    "\n",
    "    languages = []\n",
    "    services = []\n",
    "\n",
    "    for i, data in enumerate(adv_string):\n",
    "        if i == 0:\n",
    "            name = data\n",
    "        elif i < 4:\n",
    "            languages.append(data)\n",
    "        elif i < 7:\n",
    "            services.append(data)\n",
    "        elif i < 8:\n",
    "            location = data\n",
    "        else:\n",
    "            availability = data\n",
    "\n",
    "    adv_record.update({name:{'language':languages,'service':services,'location':location,'availability':availability}})\n",
    "#     print(number_of_advisors, adv_string)\n",
    "    \n",
    "    # create a row of csv with field name and data\n",
    "    # add field name to the row of data\n",
    "    adv_string.insert(0,'name')\n",
    "    adv_string.insert(2,'language')\n",
    "    adv_string.insert(6,'service')\n",
    "    adv_string.insert(10,'location')\n",
    "    adv_string.insert(12,'availability')\n",
    "\n",
    "    csv_row = ''\n",
    "    for i, data in enumerate(adv_string):\n",
    "        if i == len(adv_string)-1:\n",
    "            if number_of_advisors == 1:\n",
    "                csv_row += data\n",
    "            else:\n",
    "                csv_row += data+'\\n'\n",
    "        else:\n",
    "            csv_row += data+','\n",
    "    csv_file.write(csv_row)\n",
    "    \n",
    "    number_of_advisors -= 1 # set index for next iteration\n",
    "\n",
    "# close .csv file\n",
    "csv_file.close()"
   ]
  }
 ],
 "metadata": {
  "kernelspec": {
   "display_name": "Python 3",
   "language": "python",
   "name": "python3"
  },
  "language_info": {
   "codemirror_mode": {
    "name": "ipython",
    "version": 3
   },
   "file_extension": ".py",
   "mimetype": "text/x-python",
   "name": "python",
   "nbconvert_exporter": "python",
   "pygments_lexer": "ipython3",
   "version": "3.7.7"
  }
 },
 "nbformat": 4,
 "nbformat_minor": 4
}
