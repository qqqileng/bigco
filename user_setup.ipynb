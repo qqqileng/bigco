{
 "cells": [
  {
   "cell_type": "code",
   "execution_count": 1,
   "metadata": {},
   "outputs": [],
   "source": [
    "import pandas as pd\n",
    "import numpy as np"
   ]
  },
  {
   "cell_type": "markdown",
   "metadata": {},
   "source": [
    "# Standardized Options\n",
    "\n",
    "[Locations](#Locations): `loc_list`, `loc_prob_dict`, `loc_abbr_dict`\n",
    "\n",
    "[Languages](#Languages): `lg_list`, `lg_prob_dict`\n",
    "\n",
    "[Services](#Services): `sv_adv_list`, `sv_con_list`\n",
    "\n",
    "[Names](#Names): `first_nm_list`, `last_nm_list`"
   ]
  },
  {
   "cell_type": "markdown",
   "metadata": {},
   "source": [
    "## Locations (States) <a id='Locations'></a>"
   ]
  },
  {
   "cell_type": "code",
   "execution_count": 2,
   "metadata": {},
   "outputs": [],
   "source": [
    "df_st = pd.read_csv('data/bank_branch_master_list.csv')\n",
    "# df.head()"
   ]
  },
  {
   "cell_type": "code",
   "execution_count": 3,
   "metadata": {},
   "outputs": [],
   "source": [
    "# # find bank name\n",
    "# names = np.sort(df_st.NAME.unique())\n",
    "# for name in names:\n",
    "#     print(name)\n",
    "# # Bank Of America, National Association"
   ]
  },
  {
   "cell_type": "code",
   "execution_count": 4,
   "metadata": {},
   "outputs": [],
   "source": [
    "# # find column index\n",
    "# for i, col in enumerate(df_st.columns):\n",
    "#     print(i, col)\n",
    "# # 20 - NAME\n",
    "# # 24 - SERVTYPE\n",
    "# # 25 - STALP\n",
    "# # 27 - STNAME"
   ]
  },
  {
   "cell_type": "code",
   "execution_count": 5,
   "metadata": {},
   "outputs": [],
   "source": [
    "# select BoA branches with specific service types\n",
    "df_st_sub = df_st.loc[(df_st['NAME']=='Bank Of America, National Association') \n",
    "                & (df_st['SERVTYPE'].isin([11,12,15,16])) \n",
    "                & (df_st['STNAME']!=' ')].iloc[:,np.r_[20,24,25,27]].copy()\n",
    "df_st_sub.reset_index(drop=True, inplace=True)\n",
    "# SERVTYPE\n",
    "#     11 Full Service Brick and Mortar Office\n",
    "#     12 Full Service Retail Office\n",
    "#     15 Full Service Home/Phone Banking\n",
    "#     16 Full Service Seasonal Office\n",
    "# df_st_sub.head()"
   ]
  },
  {
   "cell_type": "code",
   "execution_count": 6,
   "metadata": {},
   "outputs": [],
   "source": [
    "# create location objects\n",
    "states = df_st_sub.STALP.unique()\n",
    "total = len(df_st_sub)\n",
    "\n",
    "loc_list = list(states) # state list\n",
    "loc_prob_dict = {} # state:proportion\n",
    "loc_abbr_dict = {} # state:statename\n",
    "\n",
    "for state in states:\n",
    "    count = len(df_st_sub.loc[df_st_sub['STALP']==state])\n",
    "    loc_prob_dict[state] = count/total\n",
    "    loc_abbr_dict[state] = df_st_sub.loc[df_st_sub['STALP']==state].iloc[0,3]\n",
    "\n",
    "# loc_prob_dict\n",
    "# loc_abbr_dict\n",
    "# loc_list"
   ]
  },
  {
   "cell_type": "markdown",
   "metadata": {},
   "source": [
    "## Languages <a id='Languages'></a>"
   ]
  },
  {
   "cell_type": "code",
   "execution_count": 7,
   "metadata": {},
   "outputs": [],
   "source": [
    "df_lg = pd.read_excel('data/languages.xlsx','Probability')\n",
    "# df_lg.head()"
   ]
  },
  {
   "cell_type": "code",
   "execution_count": 8,
   "metadata": {},
   "outputs": [],
   "source": [
    "# create language objects\n",
    "lg_list = list(df_lg.iloc[:,0])\n",
    "\n",
    "lg_prob_dict = {} # language:proportion\n",
    "for language in lg_list:\n",
    "    lg_prob_dict[language] = df_lg.loc[df_lg['Language']==language].iloc[0,2]\n",
    "\n",
    "# lg_list\n",
    "# lg_prob_dict"
   ]
  },
  {
   "cell_type": "markdown",
   "metadata": {},
   "source": [
    "## Services <a id='Services'></a>"
   ]
  },
  {
   "cell_type": "code",
   "execution_count": 9,
   "metadata": {},
   "outputs": [],
   "source": [
    "df_sv = pd.read_excel('data/services.xlsx','categories')\n",
    "# df_sv.head()"
   ]
  },
  {
   "cell_type": "code",
   "execution_count": 10,
   "metadata": {},
   "outputs": [],
   "source": [
    "# create service objects\n",
    "sv_adv_list = list(df_sv.columns) # list of services provided by advisors, category level\n",
    "sv_con_list = [] # list of services available for consumers, service level\n",
    "\n",
    "for i in range(len(sv_adv_list)):\n",
    "    col_arr = df_sv.iloc[:,i].dropna()\n",
    "    for j in range(len(col_arr)):\n",
    "        sv_con_list.append(sv_adv_list[i]+'-'+col_arr[j])\n",
    "\n",
    "# sv_adv_list\n",
    "# sv_con_list"
   ]
  },
  {
   "cell_type": "markdown",
   "metadata": {},
   "source": [
    "## Names <a id='Names'></a>"
   ]
  },
  {
   "cell_type": "code",
   "execution_count": 11,
   "metadata": {
    "scrolled": true
   },
   "outputs": [],
   "source": [
    "df_nm = pd.read_excel('data/names.xlsx','names')\n",
    "# df_nm.head()"
   ]
  },
  {
   "cell_type": "code",
   "execution_count": 12,
   "metadata": {},
   "outputs": [],
   "source": [
    "# create name objects\n",
    "first_nm_list = list(df_nm.iloc[:,0])\n",
    "last_nm_list = list(df_nm.iloc[:,1])\n",
    "\n",
    "# first_nm_list\n",
    "# last_nm_list"
   ]
  }
 ],
 "metadata": {
  "kernelspec": {
   "display_name": "Python 3",
   "language": "python",
   "name": "python3"
  },
  "language_info": {
   "codemirror_mode": {
    "name": "ipython",
    "version": 3
   },
   "file_extension": ".py",
   "mimetype": "text/x-python",
   "name": "python",
   "nbconvert_exporter": "python",
   "pygments_lexer": "ipython3",
   "version": "3.7.7"
  }
 },
 "nbformat": 4,
 "nbformat_minor": 4
}
