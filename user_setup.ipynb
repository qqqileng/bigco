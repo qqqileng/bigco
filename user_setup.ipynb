{
 "cells": [
  {
   "cell_type": "code",
   "execution_count": 1,
   "metadata": {},
   "outputs": [],
   "source": [
    "import pandas as pd\n",
    "import numpy as np"
   ]
  },
  {
   "cell_type": "markdown",
   "metadata": {},
   "source": [
    "# Standardized Options\n",
    "\n",
    "[Locations](#Locations): `loc_list`, `loc_prob_dict`, `loc_abbr_dict`\n",
    "\n",
    "[Languages](#Languages): `lg_list`, `lg_prob_dict`\n",
    "\n",
    "[Services](#Services): `sv_adv_list`, `sv_con_list`\n",
    "\n",
    "[Names](#Names): `first_nm_list`, `last_nm_list`"
   ]
  },
  {
   "cell_type": "markdown",
   "metadata": {},
   "source": [
    "## Locations (States) <a id='Locations'></a>"
   ]
  },
  {
   "cell_type": "code",
   "execution_count": 2,
   "metadata": {},
   "outputs": [],
   "source": [
    "df_st = pd.read_csv('data/bank_branch_master_list.csv')\n",
    "# df.head()"
   ]
  },
  {
   "cell_type": "code",
   "execution_count": 3,
   "metadata": {},
   "outputs": [],
   "source": [
    "# # find bank name\n",
    "# names = np.sort(df_st.NAME.unique())\n",
    "# for name in names:\n",
    "#     print(name)\n",
    "# # Bank Of America, National Association"
   ]
  },
  {
   "cell_type": "code",
   "execution_count": 4,
   "metadata": {},
   "outputs": [],
   "source": [
    "# # find column index\n",
    "# for i, col in enumerate(df_st.columns):\n",
    "#     print(i, col)\n",
    "# # 20 - NAME\n",
    "# # 24 - SERVTYPE\n",
    "# # 25 - STALP\n",
    "# # 27 - STNAME"
   ]
  },
  {
   "cell_type": "code",
   "execution_count": 5,
   "metadata": {},
   "outputs": [],
   "source": [
    "# select BoA branches with specific service types\n",
    "df_st_sub = df_st.loc[(df_st['NAME']=='Bank Of America, National Association') \n",
    "                & (df_st['SERVTYPE'].isin([11,12,15,16])) \n",
    "                & (df_st['STNAME']!=' ')].iloc[:,np.r_[20,24,25,27]].copy()\n",
    "df_st_sub.reset_index(drop=True, inplace=True)\n",
    "# SERVTYPE\n",
    "#     11 Full Service Brick and Mortar Office\n",
    "#     12 Full Service Retail Office\n",
    "#     15 Full Service Home/Phone Banking\n",
    "#     16 Full Service Seasonal Office\n",
    "# df_st_sub.head()"
   ]
  },
  {
   "cell_type": "code",
   "execution_count": 6,
   "metadata": {},
   "outputs": [],
   "source": [
    "# create location objects\n",
    "states = df_st_sub.STALP.unique()\n",
    "total = len(df_st_sub)\n",
    "\n",
    "loc_list = list(states) # state list\n",
    "loc_prob_dict = {} # state:proportion\n",
    "loc_abbr_dict = {} # state:statename\n",
    "\n",
    "for state in states:\n",
    "    count = len(df_st_sub.loc[df_st_sub['STALP']==state])\n",
    "    loc_prob_dict[state] = count/total\n",
    "    loc_abbr_dict[state] = df_st_sub.loc[df_st_sub['STALP']==state].iloc[0,3]\n",
    "\n",
    "# loc_prob_dict\n",
    "# loc_abbr_dict\n",
    "# loc_list"
   ]
  },
  {
   "cell_type": "markdown",
   "metadata": {},
   "source": [
    "## Languages <a id='Languages'></a>"
   ]
  },
  {
   "cell_type": "code",
   "execution_count": 7,
   "metadata": {},
   "outputs": [
    {
     "data": {
      "text/html": [
       "<div>\n",
       "<style scoped>\n",
       "    .dataframe tbody tr th:only-of-type {\n",
       "        vertical-align: middle;\n",
       "    }\n",
       "\n",
       "    .dataframe tbody tr th {\n",
       "        vertical-align: top;\n",
       "    }\n",
       "\n",
       "    .dataframe thead th {\n",
       "        text-align: right;\n",
       "    }\n",
       "</style>\n",
       "<table border=\"1\" class=\"dataframe\">\n",
       "  <thead>\n",
       "    <tr style=\"text-align: right;\">\n",
       "      <th></th>\n",
       "      <th>Language</th>\n",
       "      <th>Number of Speakers</th>\n",
       "      <th>Probability</th>\n",
       "    </tr>\n",
       "  </thead>\n",
       "  <tbody>\n",
       "    <tr>\n",
       "      <th>0</th>\n",
       "      <td>English</td>\n",
       "      <td>291484482</td>\n",
       "      <td>1.000000</td>\n",
       "    </tr>\n",
       "    <tr>\n",
       "      <th>1</th>\n",
       "      <td>Spanish</td>\n",
       "      <td>37458624</td>\n",
       "      <td>0.703823</td>\n",
       "    </tr>\n",
       "    <tr>\n",
       "      <th>2</th>\n",
       "      <td>Chinese</td>\n",
       "      <td>2896766</td>\n",
       "      <td>0.054428</td>\n",
       "    </tr>\n",
       "    <tr>\n",
       "      <th>3</th>\n",
       "      <td>Tagalog</td>\n",
       "      <td>1613346</td>\n",
       "      <td>0.030314</td>\n",
       "    </tr>\n",
       "    <tr>\n",
       "      <th>4</th>\n",
       "      <td>Vietnamese</td>\n",
       "      <td>1399936</td>\n",
       "      <td>0.026304</td>\n",
       "    </tr>\n",
       "  </tbody>\n",
       "</table>\n",
       "</div>"
      ],
      "text/plain": [
       "     Language  Number of Speakers  Probability\n",
       "0     English           291484482     1.000000\n",
       "1     Spanish            37458624     0.703823\n",
       "2     Chinese             2896766     0.054428\n",
       "3     Tagalog             1613346     0.030314\n",
       "4  Vietnamese             1399936     0.026304"
      ]
     },
     "execution_count": 7,
     "metadata": {},
     "output_type": "execute_result"
    }
   ],
   "source": [
    "df_lg = pd.read_excel('data/languages.xlsx','Probability')\n",
    "df_lg.head()"
   ]
  },
  {
   "cell_type": "code",
   "execution_count": 8,
   "metadata": {},
   "outputs": [],
   "source": [
    "# create language objects\n",
    "lg_list = list(df_lg.iloc[1:,0])\n",
    "\n",
    "lg_prob_dict = {} # language:proportion\n",
    "for language in lg_list:\n",
    "    lg_prob_dict[language] = df_lg.loc[df_lg['Language']==language].iloc[0,2]\n",
    "\n",
    "# lg_list\n",
    "# lg_prob_dict"
   ]
  },
  {
   "cell_type": "markdown",
   "metadata": {},
   "source": [
    "## Services <a id='Services'></a>"
   ]
  },
  {
   "cell_type": "code",
   "execution_count": 9,
   "metadata": {},
   "outputs": [],
   "source": [
    "df_sv = pd.read_excel('data/services.xlsx','categories')\n",
    "# df_sv.head()"
   ]
  },
  {
   "cell_type": "code",
   "execution_count": 10,
   "metadata": {},
   "outputs": [],
   "source": [
    "# create service objects\n",
    "sv_adv_list = list(df_sv.columns) # list of services provided by advisors, category level\n",
    "sv_con_list = [] # list of services available for consumers, service level\n",
    "\n",
    "for i in range(len(sv_adv_list)):\n",
    "    col_arr = df_sv.iloc[:,i].dropna()\n",
    "    for j in range(len(col_arr)):\n",
    "        sv_con_list.append(sv_adv_list[i]+'-'+col_arr[j])\n",
    "\n",
    "# sv_adv_list\n",
    "# sv_con_list"
   ]
  },
  {
   "cell_type": "markdown",
   "metadata": {},
   "source": [
    "## Names <a id='Names'></a>"
   ]
  },
  {
   "cell_type": "code",
   "execution_count": 11,
   "metadata": {
    "scrolled": true
   },
   "outputs": [],
   "source": [
    "df_nm = pd.read_excel('data/names.xlsx','names')\n",
    "# df_nm.head()"
   ]
  },
  {
   "cell_type": "code",
   "execution_count": 12,
   "metadata": {},
   "outputs": [],
   "source": [
    "# create name objects\n",
    "first_nm_list = list(df_nm.iloc[:,0])\n",
    "last_nm_list = list(df_nm.iloc[:,1])\n",
    "\n",
    "# first_nm_list\n",
    "# last_nm_list"
   ]
  },
  {
   "cell_type": "markdown",
   "metadata": {},
   "source": [
    "# Mock Data Generation\n",
    "## Financial Advisors"
   ]
  },
  {
   "cell_type": "code",
   "execution_count": 13,
   "metadata": {},
   "outputs": [],
   "source": [
    "def random_select(array_input, sample_size):    \n",
    "    optn_list = []\n",
    "    prob_list = []\n",
    "    \n",
    "    for i in array_input:\n",
    "        optn_list.append(i)\n",
    "        \n",
    "        if type(array_input) == dict:   \n",
    "            prob_list.append(array_input[i])\n",
    "\n",
    "        else:\n",
    "            prob_list.append(1/len(array_input))\n",
    "        \n",
    "    return np.random.choice(a = optn_list, size = sample_size, replace = False, p = prob_list)"
   ]
  },
  {
   "cell_type": "code",
   "execution_count": 27,
   "metadata": {},
   "outputs": [
    {
     "name": "stdout",
     "output_type": "stream",
     "text": [
      "['Jameela']\n",
      "['Jameela Nason', 'English']\n",
      "['Jameela Nason', 'English', 'Spanish', 'Korean']\n",
      "['Jameela Nason', 'English', 'Spanish', 'Korean', 'Home Loan', 'Investment', 'Business']\n",
      "['Jameela Nason', 'English', 'Spanish', 'Korean', 'Home Loan', 'Investment', 'Business', 'FL']\n"
     ]
    }
   ],
   "source": [
    "input_dict = {'first_name':(first_nm_list,1) # category:object,samplesize\n",
    "              ,'last_name':(last_nm_list,1)\n",
    "              ,'language':(lg_prob_dict,2)\n",
    "              ,'service':(sv_adv_list,3)\n",
    "              ,'location':(loc_prob_dict,1)}\n",
    "\n",
    "adv_record = [] # name, English, language1, language2, service1, service2, service3, location\n",
    "\n",
    "for category in input_dict:\n",
    "    for selection in random_select(input_dict[category][0],input_dict[category][1]):        \n",
    "        if category == 'last_name':\n",
    "            adv_record[0] = adv_record[0]+' '+selection\n",
    "            adv_record.append('English') # add English as default           \n",
    "        else:\n",
    "            adv_record.append(selection)\n",
    "    print(adv_record)"
   ]
  }
 ],
 "metadata": {
  "kernelspec": {
   "display_name": "Python 3",
   "language": "python",
   "name": "python3"
  },
  "language_info": {
   "codemirror_mode": {
    "name": "ipython",
    "version": 3
   },
   "file_extension": ".py",
   "mimetype": "text/x-python",
   "name": "python",
   "nbconvert_exporter": "python",
   "pygments_lexer": "ipython3",
   "version": "3.7.7"
  }
 },
 "nbformat": 4,
 "nbformat_minor": 4
}
